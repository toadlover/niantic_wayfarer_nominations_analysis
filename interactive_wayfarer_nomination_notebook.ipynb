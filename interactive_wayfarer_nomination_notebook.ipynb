{
 "cells": [
  {
   "cell_type": "code",
   "execution_count": 1,
   "id": "2a1e1096",
   "metadata": {},
   "outputs": [],
   "source": [
    "#Put introductory header here"
   ]
  },
  {
   "cell_type": "code",
   "execution_count": 2,
   "id": "8b2d2bd9",
   "metadata": {},
   "outputs": [],
   "source": [
    "#package imports\n",
    "\n",
    "#standard os and sys (probably won't be used, but just in case)\n",
    "import os,sys\n",
    "\n",
    "#pandas, to handle the csv/json data\n",
    "import pandas as pd\n",
    "\n",
    "#matplotlib.pyplot to handle most plotting\n",
    "import matplotlib.pyplot as plt\n",
    "\n",
    "#seabons as potential plotting alternative, may scrap later if I don't use it\n",
    "import seaborn as sns"
   ]
  },
  {
   "cell_type": "code",
   "execution_count": null,
   "id": "1644481d",
   "metadata": {},
   "outputs": [],
   "source": [
    "#read in the import file\n",
    "\n",
    "#place your data file here within the double quotes\n",
    "#it should either be a json or csv file, directly from the download for the nomination stats tool\n",
    "#modifications could render the file useless here...\n",
    "#default example points towards \"data_files/\"\n",
    "my_stats_file = \"\""
   ]
  }
 ],
 "metadata": {
  "kernelspec": {
   "display_name": "Python 3 (ipykernel)",
   "language": "python",
   "name": "python3"
  },
  "language_info": {
   "codemirror_mode": {
    "name": "ipython",
    "version": 3
   },
   "file_extension": ".py",
   "mimetype": "text/x-python",
   "name": "python",
   "nbconvert_exporter": "python",
   "pygments_lexer": "ipython3",
   "version": "3.11.0"
  }
 },
 "nbformat": 4,
 "nbformat_minor": 5
}
